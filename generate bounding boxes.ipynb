{
 "cells": [
  {
   "cell_type": "code",
   "execution_count": 2,
   "metadata": {},
   "outputs": [
    {
     "name": "stdout",
     "output_type": "stream",
     "text": [
      "rtree not installed, Will break evaluation code\n"
     ]
    }
   ],
   "source": [
    "import os\n",
    "import geojson_to_pixel_arr"
   ]
  },
  {
   "cell_type": "code",
   "execution_count": 3,
   "metadata": {},
   "outputs": [],
   "source": [
    "tif_path = \"/media/sumit/DATA/uChicago/Capstone/yolov3/Vegas_Sample/RGB-PanSharpen/\"\n",
    "geojson_path = \"/media/sumit/DATA/uChicago/Capstone/yolov3/Vegas_Sample/geojson/buildings/\""
   ]
  },
  {
   "cell_type": "code",
   "execution_count": 20,
   "metadata": {},
   "outputs": [
    {
     "name": "stdout",
     "output_type": "stream",
     "text": [
      "Unknown shape type in coords_arr_from_geojson()\n",
      "Some exception occured in parsing geojson file: /media/sumit/DATA/uChicago/Capstone/yolov3/Vegas_Sample/geojson/buildings/buildings_AOI_2_Vegas_img1.geojson.\n"
     ]
    }
   ],
   "source": [
    "for raster in os.listdir(tif_path):\n",
    "    if raster.endswith(\".tif\"):\n",
    "        tif_file = os.path.splitext(raster)[0][15:]\n",
    "        geojson_file = geojson_path+\"buildings_\"+tif_file+\".geojson\"\n",
    "        if os.path.isfile(geojson_file):\n",
    "            try:\n",
    "                pixel_coords, _ = geojson_to_pixel_arr.geojson_to_pixel_arr(tif_path+raster,geojson_file)\n",
    "            except:\n",
    "                print(\"Some exception occured in parsing geojson file: {}.\".format(geojson_file))\n",
    "                continue\n",
    "            mylist = []\n",
    "            mylist.append(0)\n",
    "            for building in pixel_coords:\n",
    "                # first convert polygon to rectangle\n",
    "                c1 = [x[0] for x in building]\n",
    "                c2 = [x[1] for x in building]\n",
    "                bbox = [[min(c1),min(c2)],[min(c1),max(c2)],[max(c1),max(c2)],[max(c1),min(c2)],[min(c1),min(c2)]]\n",
    "                # find height and width of this rectangle\n",
    "                for point in bbox[1:-1]:\n",
    "                    if point[0] == bbox[0][0]:\n",
    "                        height = abs(point[1]-bbox[0][1])\n",
    "                    if point[1] == bbox[0][1]:\n",
    "                        width = abs(point[0]-bbox[0][0])\n",
    "                    # find center point of this rectangle    \n",
    "                    if point[0] != bbox[0][0] and point[1] != bbox[0][1]:\n",
    "                        x1 = bbox[0][0]\n",
    "                        y1 = bbox[0][1]\n",
    "                        x2 = point[0]\n",
    "                        y2 = point[1]\n",
    "                        x_center = int((bbox[0][0]+point[0])/2)\n",
    "                        y_center = int((bbox[0][1]+point[1])/2)\n",
    "                mylist.append([x1, y1, x2, y2])\n",
    "            if not os.path.exists(\"old_style_boxes_txt\"):\n",
    "                os.mkdir(\"old_style_boxes_txt\")\n",
    "            with open(\"old_style_boxes_txt/\"+os.path.splitext(raster)[0]+\".txt\", 'w') as thefile:\n",
    "                for index, item in enumerate(mylist):\n",
    "                    if index==0:\n",
    "                        thefile.write(\"0\\n\")\n",
    "                    else:\n",
    "                        thefile.write(\"{} {} {} {}\\n\".format(item[0], item[1], item[2], item[3]))\n",
    "        else:\n",
    "            print(\"geojson corresponding to {} doesn't exists\".format(raster))"
   ]
  },
  {
   "cell_type": "code",
   "execution_count": 21,
   "metadata": {},
   "outputs": [
    {
     "name": "stdout",
     "output_type": "stream",
     "text": [
      "/media/sumit/DATA/uChicago/Capstone/yolov3/July_16/bbox/July_18\r\n"
     ]
    }
   ],
   "source": [
    "!pwd"
   ]
  },
  {
   "cell_type": "code",
   "execution_count": null,
   "metadata": {},
   "outputs": [],
   "source": []
  }
 ],
 "metadata": {
  "kernelspec": {
   "display_name": "Python [conda env:py27]",
   "language": "python",
   "name": "conda-env-py27-py"
  },
  "language_info": {
   "codemirror_mode": {
    "name": "ipython",
    "version": 2
   },
   "file_extension": ".py",
   "mimetype": "text/x-python",
   "name": "python",
   "nbconvert_exporter": "python",
   "pygments_lexer": "ipython2",
   "version": "2.7.15"
  }
 },
 "nbformat": 4,
 "nbformat_minor": 2
}
